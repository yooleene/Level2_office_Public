{
 "cells": [
  {
   "cell_type": "markdown",
   "metadata": {},
   "source": [
    "### 1. 뉴칼라 사무계 개요"
   ]
  },
  {
   "cell_type": "markdown",
   "metadata": {},
   "source": [
    "#### 1) 정형 데이터 vs 비정형 데이터\n",
    "##### ① 정형 데이터 : 행과 열이 구분되어 데이터 속성(의미)이 부여되어 있는 데이터\n",
    "##### ② 비정형 데이터 : 형식/구조/스키마 없이 산재되어 있는 데이터"
   ]
  },
  {
   "cell_type": "markdown",
   "metadata": {},
   "source": [
    "### 2. 실습 자료 다운 및 패키지 설치"
   ]
  },
  {
   "cell_type": "markdown",
   "metadata": {},
   "source": [
    "#### 1) 실습 자료 다운(github)\n",
    "##### - url(https://github.com/yooleene/Level2_office)"
   ]
  },
  {
   "cell_type": "markdown",
   "metadata": {},
   "source": [
    "#### 2) Python 설치\n",
    "##### - url(https://www.python.org/ftp/python/3.9.10/python-3.9.10-amd64.exe)"
   ]
  },
  {
   "cell_type": "markdown",
   "metadata": {},
   "source": [
    "#### 3) 패키지 설치\n",
    "##### ① pip 업그레이드\n",
    "아래의 코드를 커맨드(cmd)창에 붙여넣기 후 엔터를 눌러 설치하세요.\n",
    "\n",
    "py -m pip install --upgrade pip --trusted-host pypi.org --trusted-host files.pythonhosted.org"
   ]
  },
  {
   "cell_type": "markdown",
   "metadata": {},
   "source": [
    "##### ② 패키지 및 주피터노트북 설치\n",
    "\n",
    "\n",
    "환경설정.txt에 있는 명령어를 차례대로 커맨드창에 복사, 붙여넣기 후 엔터를 눌러 설치"
   ]
  },
  {
   "cell_type": "markdown",
   "metadata": {},
   "source": []
  }
 ],
 "metadata": {
  "language_info": {
   "name": "python"
  },
  "orig_nbformat": 4
 },
 "nbformat": 4,
 "nbformat_minor": 2
}
