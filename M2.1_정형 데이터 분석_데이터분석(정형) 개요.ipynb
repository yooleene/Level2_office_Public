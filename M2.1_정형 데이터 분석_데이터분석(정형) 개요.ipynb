{
 "cells": [
  {
   "cell_type": "markdown",
   "metadata": {},
   "source": [
    "### 1. Pandas의 이해\n",
    "#### 1) Pandas 모듈로 엑셀파일 내용을 불러와 데이터프레임(DataFrame; df)로 로드"
   ]
  },
  {
   "cell_type": "code",
   "execution_count": null,
   "metadata": {},
   "outputs": [],
   "source": [
    "import pandas as pd\n",
    "\n",
    "# 절대경로\n",
    "df = pd.read_excel(r'D:\\작업방\\뉴칼라 Lv2 사무계\\data_set/성적처리.xlsx')\n",
    "display(df)\n",
    "\n",
    "# 상대경로\n",
    "df = pd.read_excel('data_set/성적처리.xlsx')\n",
    "display(df)"
   ]
  },
  {
   "cell_type": "markdown",
   "metadata": {},
   "source": [
    "#### 2) 데이터프레임을 수정한 후 Pandas 모듈로 엑셀 파일 저장하기"
   ]
  },
  {
   "cell_type": "code",
   "execution_count": null,
   "metadata": {},
   "outputs": [],
   "source": [
    "df['평균'] = df.mean(axis = 1, numeric_only= True)\n",
    "display(df)\n",
    "df.to_excel('성적처리_평균계산.xlsx')"
   ]
  },
  {
   "cell_type": "code",
   "execution_count": null,
   "metadata": {},
   "outputs": [],
   "source": []
  }
 ],
 "metadata": {
  "kernelspec": {
   "display_name": "Python 3.10.5 64-bit",
   "language": "python",
   "name": "python3"
  },
  "language_info": {
   "codemirror_mode": {
    "name": "ipython",
    "version": 3
   },
   "file_extension": ".py",
   "mimetype": "text/x-python",
   "name": "python",
   "nbconvert_exporter": "python",
   "pygments_lexer": "ipython3",
   "version": "3.10.5"
  },
  "orig_nbformat": 4,
  "vscode": {
   "interpreter": {
    "hash": "3bd96f66437242fd6b7d02d9479994fecac8a6f723245191606c48521dadf6d2"
   }
  }
 },
 "nbformat": 4,
 "nbformat_minor": 2
}
