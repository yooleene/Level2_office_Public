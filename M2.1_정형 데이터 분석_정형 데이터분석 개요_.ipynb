{
 "cells": [
  {
   "attachments": {},
   "cell_type": "markdown",
   "metadata": {},
   "source": [
    "## <b> M2.1_정형 데이터 분석_정형 데이터 분석 개요"
   ]
  },
  {
   "attachments": {},
   "cell_type": "markdown",
   "metadata": {},
   "source": [
    "### 1. 파이썬 라이브러리\n",
    "#### 1) 라이브러리(패키지) 설치하기\n",
    "##### ① 윈도우 command 창에서 pip를 이용해 손쉽게 설치 가능\n",
    "##### ② PIP는 PYPI(Python Package Index)에서 관리하는 패키지 리포지토리(저장소)와 통신하며 각종 파이썬 패키지들의 설치, 제거, 업데이트를 도와주는 파이썬 내장 프로그램"
   ]
  },
  {
   "cell_type": "code",
   "execution_count": null,
   "metadata": {},
   "outputs": [],
   "source": [
    "pip install pandas numpy matplotlib seaborn --trusted-host pypi.org --trusted-host files.pythonhosted.org"
   ]
  },
  {
   "attachments": {},
   "cell_type": "markdown",
   "metadata": {},
   "source": [
    "### 2. Pandas의 이해\n",
    "#### 1) Pandas 모듈로 엑셀파일 내용을 불러와 데이터프레임(DataFrame; df)로 로드"
   ]
  },
  {
   "cell_type": "code",
   "execution_count": null,
   "metadata": {},
   "outputs": [],
   "source": [
    "# 성적처리.xlsx 파일 불러오기\n"
   ]
  },
  {
   "attachments": {},
   "cell_type": "markdown",
   "metadata": {},
   "source": [
    "#### 2) 데이터프레임을 수정한 후 Pandas 모듈로 엑셀 파일 저장하기"
   ]
  },
  {
   "cell_type": "code",
   "execution_count": null,
   "metadata": {},
   "outputs": [],
   "source": [
    "# '평균' column 추가하여 데이터프레임 수정 후 엑셀파일 내보내기\n"
   ]
  }
 ],
 "metadata": {
  "kernelspec": {
   "display_name": "Python 3.10.5 64-bit",
   "language": "python",
   "name": "python3"
  },
  "language_info": {
   "codemirror_mode": {
    "name": "ipython",
    "version": 3
   },
   "file_extension": ".py",
   "mimetype": "text/x-python",
   "name": "python",
   "nbconvert_exporter": "python",
   "pygments_lexer": "ipython3",
   "version": "3.10.5"
  },
  "orig_nbformat": 4,
  "vscode": {
   "interpreter": {
    "hash": "3bd96f66437242fd6b7d02d9479994fecac8a6f723245191606c48521dadf6d2"
   }
  }
 },
 "nbformat": 4,
 "nbformat_minor": 2
}
