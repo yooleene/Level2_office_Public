{
 "cells": [
  {
   "cell_type": "markdown",
   "metadata": {},
   "source": [
    "## <b> M2_2. 정형 데이터 분석_파이썬으로 배우는 엑셀 기본함수 </b>"
   ]
  },
  {
   "cell_type": "markdown",
   "metadata": {},
   "source": [
    "### 1. 텍스트 함수"
   ]
  },
  {
   "cell_type": "markdown",
   "metadata": {},
   "source": [
    "#### 1) 모듈 로드하기"
   ]
  },
  {
   "cell_type": "code",
   "execution_count": 2,
   "metadata": {},
   "outputs": [],
   "source": [
    "import pandas as pd\n",
    "import numpy as np"
   ]
  },
  {
   "cell_type": "markdown",
   "metadata": {},
   "source": [
    "#### 2) 실습 데이터 생성"
   ]
  },
  {
   "cell_type": "code",
   "execution_count": null,
   "metadata": {},
   "outputs": [],
   "source": [
    "info = pd.read_csv('data_set/인원정보.csv')   # 텍스트 함수 실습을 위한 인원정보 엑셀파일 불러오기\n",
    "score = pd.read_csv('data_set/성적처리.csv')  # 통계 함수 실습을 위한 성적처리 엑셀파일 불러오기\n",
    "info.head()"
   ]
  },
  {
   "cell_type": "markdown",
   "metadata": {},
   "source": [
    "#### 3) 여러 셀의 문자 합치기"
   ]
  },
  {
   "cell_type": "markdown",
   "metadata": {},
   "source": [
    "##### ① 데이터프레임[열1] + 데이터프레임[열2]\n",
    "- 지정한 문자열을 합쳐서 새로운 문자열 생성"
   ]
  },
  {
   "cell_type": "code",
   "execution_count": null,
   "metadata": {},
   "outputs": [],
   "source": [
    "# 문자를 합치기 위해서는 데이터 type이 같아야 함\n",
    "info['성명'] = "
   ]
  },
  {
   "cell_type": "markdown",
   "metadata": {},
   "source": [
    "##### ② 데이터프레임[[열1, 열2]].sum(axis = 0 or 1)\n",
    "- sum은 더하기 연산으로 문자열만 있을 경우 결합하여 문자열 생성(axis는 행, 열 기준을 의미(0:행, 1:열))"
   ]
  },
  {
   "cell_type": "code",
   "execution_count": null,
   "metadata": {},
   "outputs": [],
   "source": [
    "# axis는 행, 열 기준을 의미 0(행), 1(열)\n",
    "info['성명1'] = "
   ]
  },
  {
   "cell_type": "markdown",
   "metadata": {},
   "source": [
    "#### 4) 문자열에서 몇 개의 문자만 추출하기\n",
    "##### ① 데이터프레임명[추출한 값의 인덱스 혹은 범위 지정]\n",
    "- 특정 문자열에서 원하는 위치의 문자를 추출할때는 [ ]를 사용하여 인덱스(문자의 위치)를 지정\n",
    "- 범위를 지정할 때는 :를 이용하며 위치는 0부터 시작하며, 범위를 지정할 경우 끝나는 위치의 -1자리까지 추출\n",
    "- Pandas에서 문자열 관련 함수를 사용하거나 전처리를 하기 위해서는 함수 및 명령어 앞에 str을 붙여야 함"
   ]
  },
  {
   "cell_type": "code",
   "execution_count": null,
   "metadata": {},
   "outputs": [],
   "source": [
    "info['주민번호앞6자리'] =   # 주민등록번호 14자리(“-”포함) 앞에서 6자리 추출\n",
    "info['성별'] =   # 주민등록번호 7번 위치의 문자 추출\n",
    "info['전화번호뒤4자리'] =   # 전화번호 13자리에서 9번부터 12번 위치의 문자 추출\n",
    "info"
   ]
  },
  {
   "cell_type": "markdown",
   "metadata": {},
   "source": [
    "#### 5) 대/소문자 변환하기\n",
    "##### ① 데이터프레임명[열].str.lower() : 소문자 변경"
   ]
  },
  {
   "cell_type": "code",
   "execution_count": null,
   "metadata": {},
   "outputs": [],
   "source": [
    "# 소문자 변경 : 데이터프레임명[열].str.lower()\n",
    "info['소문자'] = "
   ]
  },
  {
   "cell_type": "markdown",
   "metadata": {},
   "source": [
    "##### ② 데이터프레임명[열].str.upper() : 대문자 변경"
   ]
  },
  {
   "cell_type": "code",
   "execution_count": null,
   "metadata": {},
   "outputs": [],
   "source": [
    "# 대문자 변경 : 데이터프레임명[열].str.upper()\n",
    "info['대문자'] = "
   ]
  },
  {
   "cell_type": "markdown",
   "metadata": {},
   "source": [
    "##### ③ 데이터프레임명[열].str.capitalize() : 각 단어의 첫번째 글자를 대문자로 변경"
   ]
  },
  {
   "cell_type": "code",
   "execution_count": null,
   "metadata": {},
   "outputs": [],
   "source": [
    "# 각 단어의 첫번째 글자를 대문자로 변경 : 데이터프레임명[열].str.capitalize()\n",
    "info['첫글자'] = "
   ]
  },
  {
   "cell_type": "markdown",
   "metadata": {},
   "source": [
    "#### 6) 특정 문자 바꾸기(치환)\n",
    "##### ① 데이터프레임명.str.replace(찾을 값, 변경할 값, 바꿀 횟수)\n",
    "- 찾은 문자를 모두 새로운 문자로 변경하며, 변경횟수는 몇 번째까지 바꿀 것인지를 선정(미입력 시 모두 변경)"
   ]
  },
  {
   "cell_type": "code",
   "execution_count": null,
   "metadata": {},
   "outputs": [],
   "source": [
    "# 전화번호의 \"-\"를 모두 제거\n",
    "info['phone'] = \n",
    "# 전화번호의 첫번째 \"-\"만 제거 \n",
    "info[\"phone1\"]= \n",
    "# 전화번호의 두번째까지 \"-\"만 제거\n",
    "info[\"phone2\"] = "
   ]
  },
  {
   "cell_type": "markdown",
   "metadata": {},
   "source": [
    "#### 7) 문자열에서 특정 문자의 위치 표시하기\n",
    "##### ① 데이터프레임.str.find(찾을 문자, [시작위치])\n",
    "- 지정한 문자가 어디에 있는지 인덱스를 반환. 시작위치는 검색 시작위치를 지정하며, 생략할 경우 인덱스 0부터 검색 "
   ]
  },
  {
   "cell_type": "code",
   "execution_count": null,
   "metadata": {},
   "outputs": [],
   "source": [
    "info['FIND'] =  # 주민등록번호의 '-'의 위치 반환\n",
    "info['성별구분'] = info['주민등록번호'].str[info['주민등록번호'].str.find('-')[0] + 1]\n",
    "info['성별구분'] =   # find를 활용하여 성별의 번호를 반환\n",
    "info"
   ]
  },
  {
   "cell_type": "markdown",
   "metadata": {},
   "source": [
    "#### 8) 문자열 길이 구하기\n",
    "##### ① 데이터프레임.str.len()\n",
    "- 데이터프레임 문자열의 길이를 숫자로 반환"
   ]
  },
  {
   "cell_type": "code",
   "execution_count": null,
   "metadata": {},
   "outputs": [],
   "source": [
    "# 문자열의 길이를 알고 싶을 때는 해당하는 열의 뒤에 len() 입력\n",
    "info['이름수'] = "
   ]
  },
  {
   "cell_type": "markdown",
   "metadata": {},
   "source": [
    "#### 9) 문자열 앞/뒤 공백 삭제하기\n",
    "##### ① 데이터프레임.str.strip() : 문자열 양 끝 공백을 제거\n",
    "##### ② 데이터프레임.str.lstrip() : 문자열 왼쪽 공백을 제거\n",
    "##### ③ 데이터프레임.str.rstrip() : 문자열 오른쪽 공백을 제거"
   ]
  },
  {
   "cell_type": "code",
   "execution_count": null,
   "metadata": {},
   "outputs": [],
   "source": [
    "# 주소열의 문자에서 앞/뒤의 공백 제거\n",
    "info['주소(공백제거)'] = "
   ]
  },
  {
   "cell_type": "code",
   "execution_count": null,
   "metadata": {},
   "outputs": [],
   "source": [
    "# 주소열의 변화 확인을 위해 문자열 길이 비교\n",
    "info['주소_len'] = \n",
    "info['주소_len2'] = "
   ]
  },
  {
   "cell_type": "markdown",
   "metadata": {},
   "source": [
    "### 실습 : 데이터 프레임 다루기\n",
    "담당에서 그룹과 이름을 분리하여 생성 / 사소에서 지역을 분리하여 생성 / 직급 년차에서 직급만 분리하여 생성  \n",
    "※ 실습 파일명 : A그룹 직원 리스트.csv"
   ]
  },
  {
   "cell_type": "code",
   "execution_count": null,
   "metadata": {},
   "outputs": [],
   "source": [
    "# 모듈 및 파일 불러오기\n",
    "import pandas as pd\n",
    "info = pd.read_csv('data_set/A그룹 직원 리스트.csv')\n",
    "info"
   ]
  },
  {
   "cell_type": "markdown",
   "metadata": {},
   "source": [
    "#### 1) 담당에서 그룹과 이름 분리"
   ]
  },
  {
   "cell_type": "code",
   "execution_count": null,
   "metadata": {},
   "outputs": [],
   "source": [
    "# 그룹\n",
    "info['그룹'] = info['담당'].str[:-3]\n",
    "info['이름'] = info['담당'].str[-3:]\n",
    "info"
   ]
  },
  {
   "cell_type": "markdown",
   "metadata": {},
   "source": [
    "#### 2) 사소에서 지역 분리"
   ]
  },
  {
   "cell_type": "code",
   "execution_count": null,
   "metadata": {},
   "outputs": [],
   "source": [
    "info['지역'] = info['사소'].str[:2]\n",
    "info"
   ]
  },
  {
   "cell_type": "markdown",
   "metadata": {},
   "source": [
    "#### 3) 직급년차에서 직급만 분리"
   ]
  },
  {
   "cell_type": "code",
   "execution_count": null,
   "metadata": {},
   "outputs": [],
   "source": [
    "info['직급'] = info['직급 년차'].str[:-3]\n",
    "info"
   ]
  },
  {
   "cell_type": "markdown",
   "metadata": {},
   "source": [
    "### 2. 수학 및 통계함수"
   ]
  },
  {
   "cell_type": "markdown",
   "metadata": {},
   "source": [
    "#### 1) 데이터의 합계 구하기\n",
    "##### ① 데이터프레임.sum(axis = 0 or 1)\n",
    "- axis = 0 지정 시 열방향으로 범주형 데이터, 수치형 데이터의 모든 합계 산출\n",
    "- axis = 1 지정 시 행방향으로 수치형 데이터만 합계 산출"
   ]
  },
  {
   "cell_type": "code",
   "execution_count": 6,
   "metadata": {},
   "outputs": [],
   "source": [
    "# 성적처리의 data를 score로 읽어온 후 '합계' 열을 생성하여 행방향 합계 계산\n",
    "# sum 함수 사용\n",
    "score = pd.read_csv('data_set/성적처리.csv')\n",
    "score['합계'] = "
   ]
  },
  {
   "cell_type": "code",
   "execution_count": null,
   "metadata": {},
   "outputs": [],
   "source": [
    "# + 연산자 사용\n",
    "score['합계'] = "
   ]
  },
  {
   "cell_type": "markdown",
   "metadata": {},
   "source": [
    "#### 2) 조건에 따른 합계 구하기\n",
    "##### ① 데이터프레임.loc[데이터프레임[열이름] == 비교값, [합계를 구할 열]].sum()\n",
    "- loc 혹은 iloc를 활용하여 조건에 따른 데이터를 선택하여 합계를 구함\n",
    "- 함수의 조건으로 비교연산자(<, >, ==, !=, >=, <=)를 사용 할 수 있음\n",
    "- [합계를 구할열]을 생략하면 데이터프레임의 모든 열에 함수가 적용\n",
    "- 조건은 열을 기준으로 내가 찾고자 하는 값을 비교연산자를 통해 설정"
   ]
  },
  {
   "cell_type": "code",
   "execution_count": null,
   "metadata": {},
   "outputs": [],
   "source": [
    "# 원 데이터에서 이름을 제외하고 score1 변수에 저장\n",
    "score1 = score.iloc[:, [0, 2, 3, 4, 5, 6]]\n",
    "score1\n",
    "# 빈 데이터프레임 생성\n",
    "cl = pd.DataFrame(index = ['국어', '영어', '수학', '사회', '과학'])\n",
    "# 반별로 국어, 영어, 수학, 사회, 과학의 합계 점수를 산출, 입력\n"
   ]
  },
  {
   "cell_type": "markdown",
   "metadata": {},
   "source": [
    "#### 3) 데이터 평균 구하기\n",
    "##### ① loc[행이름, 열이름].mean(axis = 0 or 1) or iloc[행번호, 열번호].mean(axis = 0 or 1)\n",
    "- loc or iloc를 통해 평균을 산출한 데이터를 선택 후 mean 함수를 통해 평균 산출\n",
    "- loc는 행과 열의 이름으로 선택하며, iloc는 인덱스 위치로 데이터 선택\n",
    "- 2개이상의 행,열 입력시에는 [ ]를 사용"
   ]
  },
  {
   "cell_type": "code",
   "execution_count": null,
   "metadata": {},
   "outputs": [],
   "source": [
    "# loc는 행, 열의 이름으로 슬라이싱\n",
    "score['평균'] = "
   ]
  },
  {
   "cell_type": "code",
   "execution_count": null,
   "metadata": {},
   "outputs": [],
   "source": [
    "# iloc는 인덱스번호로 슬라이싱 (범위에서 마지막 번호의 -1까지 선택됨)\n",
    "score['평균1'] = "
   ]
  },
  {
   "cell_type": "markdown",
   "metadata": {},
   "source": [
    "#### 4) 조건에 따른 평균 구하기\n",
    "##### ① 데이터프레임.loc[데이터프레임[열이름]==비교값,[평균을 구할 열이름]].mean()\n",
    "##### ② 데이터프레임.iloc[데이터프레임[열번호]==비교값,[평균을 구할 열번호]].mean()"
   ]
  },
  {
   "cell_type": "code",
   "execution_count": null,
   "metadata": {},
   "outputs": [],
   "source": [
    "# 원본 데이터에서 이름을 제외하고 score1 변수에 저장\n",
    "score1 = score.iloc[:, [0, 2, 3, 4, 5, 6]]\n",
    "# 빈 데이터프레임 생성\n",
    "aver = pd.DataFrame(index = ['국어', '영어', '수학', '사회', '과학'])\n",
    "# 반 별로 국어, 영어, 수학, 사회, 과학의 평균 점수를 산출, 입력\n"
   ]
  },
  {
   "cell_type": "markdown",
   "metadata": {},
   "source": [
    "#### 5) 지정한 자리수에서 반올림 하기\n",
    "##### ① 데이터프레임[적용할 행, 열].round(자리수)\n",
    "- 반올림은 round 함수를 사용하여 적용가능하며 자리수를 지정하여 해당하는 자리에서 반올림하여 결과값 반환\n",
    "- 올림과 내림, 버림은 Numpy의 함수를 적용하여 변환 가능(올림 : np.ceil, 내림 : np.floor, 버림 : np.trunc)\n",
    "  * dataframe에서 열에 일괄 적용을 시키기 위해서는 apply 함수를 활용 : apply(np.ceil), apply(np.floor), apply(np.trunc)"
   ]
  },
  {
   "cell_type": "code",
   "execution_count": null,
   "metadata": {},
   "outputs": [],
   "source": [
    "score['평균_반올림'] =   # 소수점 첫째자리까지 표시(2번째 자리에서 반올림)\n",
    "score['평균_올림'] = \n",
    "score['평균_내림'] = \n",
    "score['평균_버림'] = "
   ]
  },
  {
   "cell_type": "markdown",
   "metadata": {},
   "source": [
    "#### 6) 순위 구하기\n",
    "##### ① 데이터프레임[적용할 행, 열].rank(method=‘방법’, ascending=True/False)\n",
    "- 특정 변수를 기준으로 순서를 구할때 사용\n",
    "- method : 순위를 구할 때 기준 변수의 점수가 동일한 관측치를 어떻게 처리하는지에 따라 5가지 방법으로 구분.\n",
    "- False는 내림차순으로 순위를 구함(제일 높은 순위가 ‘1’)\n",
    "- ascending : True는 오름차순으로 순위를 구함(제일 작은 점수가 순위 '1’, 높아질수록 하나씩 순위 증가)  \n",
    " Default 값이 True 이므로 별도 설정을 안해줘도 자동으로 오름차순으로 순위가 구해짐"
   ]
  },
  {
   "cell_type": "code",
   "execution_count": null,
   "metadata": {},
   "outputs": [],
   "source": [
    "# 평균에 대해 method별 내림차순으로 순위 구하기\n",
    "score['순위'] = \n",
    "score['순위_min'] =    # 동점 관측치 그룹 내 최소 순위 부여\n",
    "score['순위_max'] =    # 동점 관측치 그룹 내 최대 순위 부여\n",
    "score['순위_first'] =    # 동점 관측치 중에서 데이터 상에서 먼저 나타나는 관측치부터 순위 부여\n",
    "score['순위_dense'] =    # 최소값과 같은 방법으로 순위를 부여하나, 그룹 간 순위가 1씩 증가함"
   ]
  },
  {
   "cell_type": "markdown",
   "metadata": {},
   "source": [
    "#### 7) 최대값/최소값 구하기\n",
    "##### ① 최대값 : 데이터프레임.max(axis=0 or 1) , 최소값 : 데이터프레임.min(axis=0 or 1)\n",
    "- 데이터프레임에서 행 혹은 열에 대한 최소,최대값을 min, max함수로 산출    \n",
    "- 데이터프레임, 열, 행 등 범위를 지정하여 .min/max()를 통해 구할 수 있으며, axis로 행과 열을 구분함"
   ]
  },
  {
   "cell_type": "code",
   "execution_count": null,
   "metadata": {},
   "outputs": [],
   "source": [
    "# 국어~ 과학까지의 점수만 저장\n",
    "score_row = score.iloc[:, [0, 2, 3, 4, 5, 6]]\n",
    "# score 행별 Min/Max\n",
    "score['MIN'] = \n",
    "score['MAX'] = "
   ]
  },
  {
   "cell_type": "markdown",
   "metadata": {},
   "source": [
    "#### 8) 중간값 구하기\n",
    "##### ① 데이터프레임.median(axis = 0 or 1)\n",
    "- 데이터프레임에서 행 혹은 열에 대한 중간값을 median 함수로 산출    \n",
    "- 데이터프레임, 열, 행 등 범위를 지정하여 .median()를 통해 구할 수 있으며, axis로 행과 열을 구분함"
   ]
  },
  {
   "cell_type": "code",
   "execution_count": null,
   "metadata": {},
   "outputs": [],
   "source": [
    "# 국어~과학까지의 점수만 저장\n",
    "score_row = score.iloc[:, [0, 2, 3, 4, 5, 6]]\n",
    "# 중간값 구하기\n",
    "score['MEDIAN'] = "
   ]
  },
  {
   "cell_type": "markdown",
   "metadata": {},
   "source": [
    "#### 9) 데이터 갯수 구하기\n",
    "##### ① len(데이터프레임) : 행의 개수 구하기  /  len(데이터프레임.columns) : 열의 개수 구하기"
   ]
  },
  {
   "cell_type": "code",
   "execution_count": null,
   "metadata": {},
   "outputs": [],
   "source": [
    "# score 행의 개수 구하기\n",
    "len(score)\n",
    "# score 열의 개수 구하기\n",
    "len(score.columns)"
   ]
  },
  {
   "cell_type": "markdown",
   "metadata": {},
   "source": [
    "##### ② 데이터프레임.size : 데이터의 개수를 구함 (Null 값인 행도 모두 포함)"
   ]
  },
  {
   "cell_type": "code",
   "execution_count": null,
   "metadata": {},
   "outputs": [],
   "source": [
    "# score에 있는 데이터 전체 갯수 구하기\n",
    "score.size"
   ]
  },
  {
   "cell_type": "markdown",
   "metadata": {},
   "source": [
    "##### ③ 데이터프레임.count(axis=0 or 1) : Null값이 아닌 개수를 구함. axis로 행과 열의 개수 확인 "
   ]
  },
  {
   "cell_type": "code",
   "execution_count": null,
   "metadata": {},
   "outputs": [],
   "source": [
    "# null 값을 제외한 데이터 개수 구하기(0:열, 1:행)\n",
    "# column 기준, 0은 default값으로 생략 가능\n",
    "score.count(axis = 0)\n",
    "# index 기준\n",
    "score.count(1)"
   ]
  },
  {
   "cell_type": "markdown",
   "metadata": {},
   "source": [
    "#### 10) 그룹별로 데이터 집계, 요약하기\n",
    "##### ① 데이터프레임.groupby(그룹핑 대상, as_index=False)\n",
    "- 같은 값을 가진 행들을 그룹으로 묶어 새로운 df 생성  *as_index : 그룹핑 대상을 인덱스로 지정할 것인지의 여부\n",
    "- groupby된 df에 max(), min(), mean(), count(), first(), last() 등의 함수를 사용하여 데이터 요약\n",
    "- agg() 연산자를 사용해서 여러개의 집계함수를 동시에 수행할 수 있고, 컬럼 값을 지정 가능"
   ]
  },
  {
   "cell_type": "code",
   "execution_count": 7,
   "metadata": {},
   "outputs": [],
   "source": [
    "# '납품'엑셀 파일의 데이터 불러오기\n",
    "delivery = pd.read_csv('data_set/납품.csv')"
   ]
  },
  {
   "cell_type": "code",
   "execution_count": null,
   "metadata": {},
   "outputs": [],
   "source": [
    "# 직위를 기준으로 데이터 평균 확인\n",
    "# 담당자는 문자형 자료이기 때문에 mean메서드를 사용하지 못함"
   ]
  },
  {
   "cell_type": "code",
   "execution_count": null,
   "metadata": {},
   "outputs": [],
   "source": [
    "# 직위를 기준으로 납품금액에 대한 평균 확인\n"
   ]
  },
  {
   "cell_type": "code",
   "execution_count": null,
   "metadata": {},
   "outputs": [],
   "source": [
    "# 직위를 기준으로 납품금액과 운송금액에 대한 평균 확인\n"
   ]
  },
  {
   "cell_type": "code",
   "execution_count": null,
   "metadata": {},
   "outputs": [],
   "source": [
    "# 직위와 납품방식에 따라 납품, 운송금액 확인\n"
   ]
  },
  {
   "cell_type": "code",
   "execution_count": null,
   "metadata": {},
   "outputs": [],
   "source": [
    "# as_index 생략(중복되는 인덱스를 병합해서 보여줌)\n"
   ]
  },
  {
   "cell_type": "code",
   "execution_count": null,
   "metadata": {},
   "outputs": [],
   "source": [
    "# agg 함수를 이용하면 평균, 합계 등 다양한 통계량 한번에 출력 가능\n",
    "# .agg()의 ()안에 'mean', 'sum' 등 통계량을 입력, 2개 이상 복수 입력시 [ ]로 입력\n"
   ]
  },
  {
   "cell_type": "markdown",
   "metadata": {},
   "source": [
    "#### 11) 기술통계 보기\n",
    "##### ① 데이터프레임.describe()\n",
    "- 연산이 가능한 숫자를 가진 컬럼을 뽑아내고, 그 컬럼들에 대해 기본 통계량을 계산하여 표시"
   ]
  },
  {
   "cell_type": "code",
   "execution_count": null,
   "metadata": {},
   "outputs": [],
   "source": [
    "# delivery의 기본 통계량 describe로 확인\n"
   ]
  },
  {
   "cell_type": "markdown",
   "metadata": {},
   "source": [
    "### 실습 : 수학 및 통계함수\n",
    "아래는 지점별 제품 매출 자료이다. 각 통계자료를 파이썬 함수로 구현하세요.  \n",
    "제품별 매출 합계, 평균 매출 구하기 / 지점별 매출 합계, 최고/최소 매출제품 구하기 / 전체 제품 개수와 지점별 판매중인 제품 수 구하기(지점별 NaN값은 미판매 제품임)\n",
    "※ 실습 파일명 : 지점별 차량판매 매출액.csv"
   ]
  },
  {
   "cell_type": "markdown",
   "metadata": {},
   "source": [
    "#### 1) 제품별 매출 합계, 평균 매출 구하기"
   ]
  },
  {
   "cell_type": "code",
   "execution_count": null,
   "metadata": {},
   "outputs": [],
   "source": [
    "# 모듈 로드하기, 파일 불러오기\n",
    "import pandas as pd\n",
    "\n",
    "car_sales = pd.read_csv('data_set/지점별 차량판매 매출액.csv')\n",
    "car_sales"
   ]
  },
  {
   "cell_type": "code",
   "execution_count": null,
   "metadata": {},
   "outputs": [],
   "source": [
    "# 제품별 매출합계, 평균 매출 \n",
    "car_sales['매출 합계'] = car_sales.sum(1, numeric_only = True)\n",
    "car_sales['평균 매출'] = car_sales.loc[:,'오거리점':'양덕점'].mean(1)\n",
    "car_sales"
   ]
  },
  {
   "cell_type": "markdown",
   "metadata": {},
   "source": [
    "#### 2) 지점별 매출합계"
   ]
  },
  {
   "cell_type": "code",
   "execution_count": null,
   "metadata": {},
   "outputs": [],
   "source": [
    "# 지점별 매출합계, 최고/최소 매출제품 구하기\n",
    "branch = pd.DataFrame(index = ['오거리점', '이동점', '양덕점'])\n",
    "branch"
   ]
  },
  {
   "cell_type": "code",
   "execution_count": null,
   "metadata": {},
   "outputs": [],
   "source": [
    "branch['합계'] = car_sales.sum()\n",
    "branch"
   ]
  },
  {
   "cell_type": "markdown",
   "metadata": {},
   "source": [
    "#### 3) 최고/최소 매출제품 구하기"
   ]
  },
  {
   "cell_type": "code",
   "execution_count": null,
   "metadata": {},
   "outputs": [],
   "source": [
    "# 지점별 최고/최소 매출제품 구하기\n",
    "car_sales['오거리점_순위'] = car_sales['오거리점'].rank(ascending = False)\n",
    "car_sales['이동점_순위'] = car_sales['이동점'].rank(ascending = False)\n",
    "car_sales['양덕점_순위'] = car_sales['양덕점'].rank(ascending = False)\n",
    "car_sales"
   ]
  },
  {
   "cell_type": "markdown",
   "metadata": {},
   "source": [
    "#### 4) 전체 제품 수, 지점별 판매중 제품 수"
   ]
  },
  {
   "cell_type": "code",
   "execution_count": null,
   "metadata": {},
   "outputs": [],
   "source": [
    "# 전체 제품 개수\n",
    "len(car_sales)"
   ]
  },
  {
   "cell_type": "code",
   "execution_count": null,
   "metadata": {},
   "outputs": [],
   "source": [
    "# 지점별 판매중인 제품 개수\n",
    "car_sales.count()"
   ]
  },
  {
   "cell_type": "code",
   "execution_count": null,
   "metadata": {},
   "outputs": [],
   "source": [
    "car_sales.describe().loc['count', '오거리점':'양덕점']"
   ]
  }
 ],
 "metadata": {
  "kernelspec": {
   "display_name": "Python 3.10.5 64-bit",
   "language": "python",
   "name": "python3"
  },
  "language_info": {
   "codemirror_mode": {
    "name": "ipython",
    "version": 3
   },
   "file_extension": ".py",
   "mimetype": "text/x-python",
   "name": "python",
   "nbconvert_exporter": "python",
   "pygments_lexer": "ipython3",
   "version": "3.9.10"
  },
  "orig_nbformat": 4,
  "vscode": {
   "interpreter": {
    "hash": "3bd96f66437242fd6b7d02d9479994fecac8a6f723245191606c48521dadf6d2"
   }
  }
 },
 "nbformat": 4,
 "nbformat_minor": 2
}
