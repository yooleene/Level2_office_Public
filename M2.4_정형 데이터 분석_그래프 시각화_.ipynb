{
 "cells": [
  {
   "attachments": {},
   "cell_type": "markdown",
   "metadata": {},
   "source": [
    "## <b> M2.4_그래프 시각화"
   ]
  },
  {
   "attachments": {},
   "cell_type": "markdown",
   "metadata": {},
   "source": [
    "### 1. 데이터 빈도/비율 그래프 그리기\n",
    "#### 1) Pandas plot() 메서드는 matplotlib와 결합해 다양한 시각화 도구를 제공\n",
    "##### ① 빈도분석을 위한 Bar차트, Pie차트 뿐만 아니라 탐색적 분석을 위한 히스토그램, 산점도 생성이 가능\n",
    "##### ② matplotlib 패키지와 연결된 pandas plot() 메서드를 통해 pandas에서 직접 그래프 생성 가능"
   ]
  },
  {
   "cell_type": "code",
   "execution_count": null,
   "metadata": {},
   "outputs": [],
   "source": [
    "import pandas as pd\n",
    "import matplotlib as mpl\n",
    "import matplotlib.pyplot as plt"
   ]
  },
  {
   "cell_type": "code",
   "execution_count": null,
   "metadata": {},
   "outputs": [],
   "source": [
    "# 그래프 한글 폰트 적용\n",
    "mpl.rc('font', family = 'Malgun Gothic')\n",
    "df = pd.read_excel('data_set/학생건강검사 데이터.xlsx', index_col = 'id')\n",
    "df"
   ]
  },
  {
   "attachments": {},
   "cell_type": "markdown",
   "metadata": {},
   "source": [
    "#### 2) Bar Chart"
   ]
  },
  {
   "attachments": {},
   "cell_type": "markdown",
   "metadata": {},
   "source": [
    "### "
   ]
  },
  {
   "cell_type": "code",
   "execution_count": null,
   "metadata": {},
   "outputs": [],
   "source": [
    "# 성별 Bar Chart\n",
    "# 개별(1개) 범주형 변수의 자료 수 계산 / color = [(0.3, 0.5, 0.7), (0.7, 0.5, 0.3)]\n",
    "s_count = "
   ]
  },
  {
   "cell_type": "code",
   "execution_count": null,
   "metadata": {},
   "outputs": [],
   "source": [
    "# 지역별, 성별 Bar Chart\n"
   ]
  },
  {
   "cell_type": "code",
   "execution_count": null,
   "metadata": {},
   "outputs": [],
   "source": [
    "# 초/중/고 Bar Chart\n",
    "g_count ="
   ]
  },
  {
   "cell_type": "code",
   "execution_count": null,
   "metadata": {},
   "outputs": [],
   "source": [
    "# sort_index(inplace = True) : 정렬 결과를 df에 저장\n",
    "# color = [(0.3, 0.5, 0.7), (0.7, 0.5, 0.3), (0.3, 0.7, 0.5)]\n"
   ]
  },
  {
   "cell_type": "code",
   "execution_count": null,
   "metadata": {},
   "outputs": [],
   "source": [
    "# 도시별 Bar Chart\n",
    "# groupby(column) : column 기준 자료 요약, as_index : groupby 변수의 index로 사용 여부\n",
    "c_count ="
   ]
  },
  {
   "attachments": {},
   "cell_type": "markdown",
   "metadata": {},
   "source": [
    "#### 3) Pie Chart"
   ]
  },
  {
   "cell_type": "code",
   "execution_count": null,
   "metadata": {},
   "outputs": [],
   "source": [
    "# 성별 Pie Chart\n",
    "# 개별(1개) 범주형 변수의 자료 수 계산\n",
    "s_count = "
   ]
  },
  {
   "attachments": {},
   "cell_type": "markdown",
   "metadata": {},
   "source": [
    "#### 4) Pandas boxplot()"
   ]
  },
  {
   "attachments": {},
   "cell_type": "markdown",
   "metadata": {},
   "source": [
    "##### ① 데이터를 4분위로 나눈 다음 중앙값을 중심으로 1~3분위까지 박스를 그려 분포를 표현하는 그래프"
   ]
  },
  {
   "cell_type": "code",
   "execution_count": null,
   "metadata": {},
   "outputs": [],
   "source": [
    "# 모듈 로드하기\n",
    "import pandas as pd\n",
    "import matplotlib as mpl\n",
    "import matplotlib.pyplot as plt"
   ]
  },
  {
   "cell_type": "code",
   "execution_count": null,
   "metadata": {},
   "outputs": [],
   "source": [
    "# 그래프 한글폰트 적용\n",
    "mpl.rc('font', family = 'Malgun Gothic')\n",
    "df = pd.read_excel('data_set/학생건강검사 데이터.xlsx', index_col = 'id')"
   ]
  },
  {
   "cell_type": "code",
   "execution_count": null,
   "metadata": {},
   "outputs": [],
   "source": [
    "columns = ['height', 'weight']\n",
    "bys = ['sch_grade', 'sex']\n",
    "for col in columns:\n",
    "    for by in bys:\n",
    "        df.boxplot(column = col, by = by, figsize = (6, 4), fontsize = 16)  # 서로 다른 그룹의 by열을 그룹화하는 서로 다른 상자기름을 플로팅 함\n",
    "        plt.show()"
   ]
  },
  {
   "attachments": {},
   "cell_type": "markdown",
   "metadata": {},
   "source": [
    "#### 5) Pandas hist()"
   ]
  },
  {
   "attachments": {},
   "cell_type": "markdown",
   "metadata": {},
   "source": [
    "##### ① (연속형) 데이터를 요약하여 가로축에 계급(구간), 세로축에 빈도를 표현하는 히스토그램 그리기"
   ]
  },
  {
   "cell_type": "code",
   "execution_count": null,
   "metadata": {},
   "outputs": [],
   "source": [
    "# 모듈 로드하기\n",
    "import pandas as pd\n",
    "import matplotlib as mpl\n",
    "import matplotlib.pyplot as plt"
   ]
  },
  {
   "cell_type": "code",
   "execution_count": null,
   "metadata": {},
   "outputs": [],
   "source": [
    "# 그래프 한글폰트 적용\n",
    "mpl.rc('font', family = 'Malgun Gothic')\n",
    "df = pd.read_excel('data_set/학생건강검사 데이터.xlsx', index_col = 'id')"
   ]
  },
  {
   "cell_type": "code",
   "execution_count": null,
   "metadata": {},
   "outputs": [],
   "source": [
    "# 데이터 전체 히스토그램('height' column)\n"
   ]
  },
  {
   "cell_type": "code",
   "execution_count": null,
   "metadata": {},
   "outputs": [],
   "source": [
    "# 고등학생만 필터링한 히스토그램\n",
    "s_data = "
   ]
  },
  {
   "attachments": {},
   "cell_type": "markdown",
   "metadata": {},
   "source": [
    "#### 6) Seaborn scatter()"
   ]
  },
  {
   "attachments": {},
   "cell_type": "markdown",
   "metadata": {},
   "source": [
    "##### ① X, Y 좌표를 이용해서 2 연속형 변수 간의 분포, 패턴, 관계를 표현하는 산점도 그리기 "
   ]
  },
  {
   "cell_type": "code",
   "execution_count": null,
   "metadata": {},
   "outputs": [],
   "source": [
    "# 모듈 로드하기\n",
    "import pandas as pd\n",
    "import matplotlib as mpl\n",
    "import matplotlib.pyplot as plt\n",
    "import seaborn as sns"
   ]
  },
  {
   "cell_type": "code",
   "execution_count": null,
   "metadata": {},
   "outputs": [],
   "source": [
    "# 그래프 한글폰트 적용\n",
    "mpl.rc('font', family = 'Malgun Gothic')\n",
    "df = pd.read_excel('data_set/학생건강검사 데이터.xlsx', index_col = 'id')"
   ]
  },
  {
   "cell_type": "code",
   "execution_count": null,
   "metadata": {},
   "outputs": [],
   "source": [
    "# 성별에 따른 키와 몸무게간 산점도\n",
    "# hue : 그룹변수, style : 그룹별 marker 구분\n"
   ]
  },
  {
   "attachments": {},
   "cell_type": "markdown",
   "metadata": {},
   "source": [
    "#### 7) Seaborn pairplot()\n",
    "##### ① 두 변수 이상의 분포와 산점도를 히스토그램과 산점도로 종합하여 표시"
   ]
  },
  {
   "cell_type": "code",
   "execution_count": null,
   "metadata": {},
   "outputs": [],
   "source": [
    "# 모듈 로드\n",
    "import pandas as pd\n",
    "import matplotlib as mpl, matplotlib.pyplot as plt\n",
    "import seaborn as sns\n",
    "\n",
    "# 그래프 한글폰트 적용\n",
    "mpl.rc('font', family = 'Malgun Gothic')\n",
    "df = pd.read_excel('data_set/학생건강검사 데이터.xlsx', index_col = 'id')"
   ]
  },
  {
   "cell_type": "code",
   "execution_count": null,
   "metadata": {},
   "outputs": [],
   "source": [
    "# 모든 학생들의 키, 몸무게 히스토그램과 산점도\n"
   ]
  },
  {
   "cell_type": "code",
   "execution_count": null,
   "metadata": {},
   "outputs": [],
   "source": [
    "# 고등학생들의 키, 몸무게 히스토그램과 산점도\n"
   ]
  }
 ],
 "metadata": {
  "kernelspec": {
   "display_name": "Python 3.10.5 64-bit",
   "language": "python",
   "name": "python3"
  },
  "language_info": {
   "codemirror_mode": {
    "name": "ipython",
    "version": 3
   },
   "file_extension": ".py",
   "mimetype": "text/x-python",
   "name": "python",
   "nbconvert_exporter": "python",
   "pygments_lexer": "ipython3",
   "version": "3.10.5"
  },
  "orig_nbformat": 4,
  "vscode": {
   "interpreter": {
    "hash": "3bd96f66437242fd6b7d02d9479994fecac8a6f723245191606c48521dadf6d2"
   }
  }
 },
 "nbformat": 4,
 "nbformat_minor": 2
}
