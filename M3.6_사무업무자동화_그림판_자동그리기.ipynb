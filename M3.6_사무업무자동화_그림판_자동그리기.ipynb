{
 "cells": [
  {
   "attachments": {},
   "cell_type": "markdown",
   "metadata": {},
   "source": [
    "## <b>M3.6_window_handiling_그림판_자동그리기"
   ]
  },
  {
   "attachments": {},
   "cell_type": "markdown",
   "metadata": {},
   "source": [
    "### 1. 사각형 그리기"
   ]
  },
  {
   "cell_type": "code",
   "execution_count": 3,
   "metadata": {},
   "outputs": [],
   "source": [
    "import pyautogui as pg\n",
    "\n",
    "pg.sleep(3)\n",
    "pg.drag(100, 0, duration=0.5)\n",
    "pg.drag(0, 100, duration=0.5)\n",
    "pg.drag(-100, 0, duration=0.5)\n",
    "pg.drag(0, -100, duration=0.5)"
   ]
  },
  {
   "attachments": {},
   "cell_type": "markdown",
   "metadata": {},
   "source": [
    "### 2. 중심으로 들어가는 사각형 그리기"
   ]
  },
  {
   "cell_type": "code",
   "execution_count": 2,
   "metadata": {},
   "outputs": [],
   "source": [
    "import pyautogui as pg\n",
    "\n",
    "pg.sleep(0.5)\n",
    "\n",
    "pg.hotkey('win', 'r')\n",
    "pg.sleep(0.5)\n",
    "pg.write('mspaint')\n",
    "pg.press('enter')\n",
    "\n",
    "pg.sleep(3)\n",
    "pg.hotkey('win', 'up')\n",
    "pg.sleep(1)\n",
    "\n",
    "pg.moveTo(600,300,2)\n",
    "\n",
    "distance = 200\n",
    "while distance > 0:\n",
    "    pg.drag(distance, 0, duration=0.5)\n",
    "    pg.drag(0, distance, duration=0.5)\n",
    "    distance -= 20\n",
    "    pg.drag(-distance, 0, duration=0.5)\n",
    "    pg.drag(0, -distance, duration=0.5)\n",
    "    distance -= 20"
   ]
  },
  {
   "cell_type": "code",
   "execution_count": null,
   "metadata": {},
   "outputs": [],
   "source": []
  }
 ],
 "metadata": {
  "kernelspec": {
   "display_name": "Python 3 (ipykernel)",
   "language": "python",
   "name": "python3"
  },
  "language_info": {
   "codemirror_mode": {
    "name": "ipython",
    "version": 3
   },
   "file_extension": ".py",
   "mimetype": "text/x-python",
   "name": "python",
   "nbconvert_exporter": "python",
   "pygments_lexer": "ipython3",
   "version": "3.9.10"
  },
  "vscode": {
   "interpreter": {
    "hash": "e2782e0ab7cab974e8fb2dfc8cec048a29dc3b50e54743df0c4a34ac41b2be7e"
   }
  }
 },
 "nbformat": 4,
 "nbformat_minor": 4
}
