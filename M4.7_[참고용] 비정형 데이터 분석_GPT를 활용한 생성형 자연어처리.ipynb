{
 "cells": [
  {
   "cell_type": "markdown",
   "metadata": {},
   "source": [
    "## <b>M4.5_GPT를 활용한 생성형 자연어처리(Gen-NLP )</b>"
   ]
  },
  {
   "cell_type": "markdown",
   "metadata": {},
   "source": [
    "### 1. 웹 데이터 추출 - 건강가정기본법"
   ]
  },
  {
   "cell_type": "code",
   "execution_count": null,
   "metadata": {},
   "outputs": [],
   "source": [
    "from selenium import webdriver\n",
    "from selenium.webdriver.common.by import By\n",
    "\n",
    "# 웹사이트 접속\n",
    "url = 'https://www.law.go.kr/lsSc.do?section=&menuId=1&subMenuId=15&tabMenuId=81&eventGubun=060101&query=%EA%B1%B4%EA%B0%95%EA%B0%80%EC%A0%95%EA%B8%B0%EB%B3%B8%EB%B2%95+%EC%8B%9C%ED%96%89%EB%A0%B9#undefined'\n",
    "driver = webdriver.Chrome()\n",
    "driver.get(url)\n",
    "\n",
    "# 텍스트 추출\n",
    "law_text = driver.find_element(By.ID, 'contentBody').text\n",
    "\n",
    "# 텍스트 확인\n",
    "law_text[:500]"
   ]
  },
  {
   "cell_type": "markdown",
   "metadata": {},
   "source": [
    "### 2. GPT를 활용한 텍스트 요약 및 메일 문장 만들기"
   ]
  },
  {
   "cell_type": "code",
   "execution_count": null,
   "metadata": {},
   "outputs": [],
   "source": [
    "import requests\n",
    "import warnings\n",
    "\n",
    "#SSL 경고창 없애기\n",
    "warnings.filterwarnings(action='ignore')\n",
    "\n",
    "text = law_text # 원본 텍스트\n",
    "model = \n",
    "system_content = \n",
    "user_content = \n",
    "\n",
    "url = 'https://api.openai.com/v1/chat/completions' # GPT API URL\n",
    "\n",
    "headers = {\n",
    "    'Authorization': 'Bearer ' + '', # API 키 인증\n",
    "    'Content-Type': 'application/json' # api 연동시에 보내는 자원을 명시\n",
    "}\n",
    "json_data = {\n",
    "    'model': model,\n",
    "    'messages': [\n",
    "      {'role': 'system', 'content': }, # 시스템 역할 설정\n",
    "      {'role': 'user', 'content': } # 사용자 요구 메세지\n",
    "    ],\n",
    "    'temperature' : , # 생성된 텍스트의 다양성(높을 수록 다양해짐, 생략 가능)\n",
    "    'max_tokens' :  # 생성 가능한 최대 토큰 수(생략 가능)\n",
    "}"
   ]
  }
 ],
 "metadata": {
  "kernelspec": {
   "display_name": "Python 3",
   "language": "python",
   "name": "python3"
  },
  "language_info": {
   "codemirror_mode": {
    "name": "ipython",
    "version": 3
   },
   "file_extension": ".py",
   "mimetype": "text/x-python",
   "name": "python",
   "nbconvert_exporter": "python",
   "pygments_lexer": "ipython3",
   "version": "3.9.10"
  }
 },
 "nbformat": 4,
 "nbformat_minor": 2
}
