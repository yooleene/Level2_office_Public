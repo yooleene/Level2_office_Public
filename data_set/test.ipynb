{
 "cells": [
  {
   "cell_type": "code",
   "execution_count": null,
   "metadata": {},
   "outputs": [],
   "source": [
    "import pandas as pd\n",
    "\n",
    "# 절대경로\n",
    "df = pd.read_excel(r'D:\\작업방\\뉴칼라 Lv2 사무계\\data_set/성적처리.xlsx')\n",
    "display(df)\n",
    "\n",
    "# 상대경로\n",
    "df = pd.read_excel('data_set/성적처리.xlsx')\n",
    "display(df)"
   ]
  }
 ],
 "metadata": {
  "kernelspec": {
   "display_name": "Python 3",
   "language": "python",
   "name": "python3"
  },
  "language_info": {
   "name": "python",
   "version": "3.9.10"
  }
 },
 "nbformat": 4,
 "nbformat_minor": 2
}
